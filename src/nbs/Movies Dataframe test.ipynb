{
 "cells": [
  {
   "cell_type": "code",
   "execution_count": 6,
   "id": "c654ff95-16b9-4af8-be19-8eb7f38b2a4f",
   "metadata": {},
   "outputs": [
    {
     "name": "stdout",
     "output_type": "stream",
     "text": [
      "hello\n"
     ]
    }
   ],
   "source": [
    "import setup_django\n",
    "setup_django.init()\n",
    "print(\"hello\")"
   ]
  },
  {
   "cell_type": "code",
   "execution_count": 9,
   "id": "b83eee83-ed74-498a-b135-f2ff876eed3f",
   "metadata": {},
   "outputs": [
    {
     "data": {
      "text/plain": [
       "<MovieQuerySet [{'title': 'Ariel', 'release_date': datetime.date(1988, 10, 21), 'rating_avg': Decimal('2.80'), 'rating_count': 5}, {'title': 'Shadows in Paradise', 'release_date': datetime.date(1986, 10, 16), 'rating_avg': Decimal('3.60'), 'rating_count': 5}, {'title': 'Four Rooms', 'release_date': datetime.date(1995, 12, 9), 'rating_avg': Decimal('2.00'), 'rating_count': 7}, {'title': 'Judgment Night', 'release_date': datetime.date(1993, 10, 15), 'rating_avg': Decimal('2.86'), 'rating_count': 7}, {'title': 'Star Wars', 'release_date': datetime.date(1977, 5, 25), 'rating_avg': Decimal('3.42'), 'rating_count': 12}, {'title': 'Finding Nemo', 'release_date': datetime.date(2003, 5, 30), 'rating_avg': Decimal('2.82'), 'rating_count': 11}, {'title': 'Forrest Gump', 'release_date': datetime.date(1994, 7, 6), 'rating_avg': Decimal('2.55'), 'rating_count': 11}, {'title': 'American Beauty', 'release_date': datetime.date(1999, 9, 15), 'rating_avg': Decimal('2.60'), 'rating_count': 10}, {'title': 'Citizen Kane', 'release_date': datetime.date(1941, 4, 30), 'rating_avg': Decimal('3.10'), 'rating_count': 10}, {'title': 'Dancer in the Dark', 'release_date': datetime.date(2000, 5, 17), 'rating_avg': Decimal('2.07'), 'rating_count': 14}, {'title': 'The Dark', 'release_date': datetime.date(2006, 1, 26), 'rating_avg': Decimal('2.71'), 'rating_count': 7}, {'title': 'The Fifth Element', 'release_date': datetime.date(1997, 5, 7), 'rating_avg': Decimal('3.67'), 'rating_count': 6}, {'title': 'Metropolis', 'release_date': datetime.date(1927, 1, 10), 'rating_avg': Decimal('3.12'), 'rating_count': 8}, {'title': 'My Life Without Me', 'release_date': datetime.date(2003, 3, 7), 'rating_avg': Decimal('2.58'), 'rating_count': 12}, {'title': 'The Endless Summer', 'release_date': datetime.date(1966, 6, 15), 'rating_avg': Decimal('2.44'), 'rating_count': 9}, {'title': 'Pirates of the Caribbean: The Curse of the Black Pearl', 'release_date': datetime.date(2003, 7, 9), 'rating_avg': Decimal('2.30'), 'rating_count': 10}, {'title': 'Kill Bill: Vol. 1', 'release_date': datetime.date(2003, 10, 10), 'rating_avg': Decimal('2.92'), 'rating_count': 12}, {'title': 'Jarhead', 'release_date': datetime.date(2005, 11, 4), 'rating_avg': Decimal('3.00'), 'rating_count': 6}, {'title': 'Walk on Water', 'release_date': datetime.date(2004, 2, 5), 'rating_avg': Decimal('3.00'), 'rating_count': 11}, {'title': '9 Songs', 'release_date': datetime.date(2004, 7, 16), 'rating_avg': Decimal('2.17'), 'rating_count': 6}, '...(remaining elements truncated)...']>"
      ]
     },
     "execution_count": 9,
     "metadata": {},
     "output_type": "execute_result"
    }
   ],
   "source": [
    "from movies.models import Movie\n",
    "\n",
    "qs = Movie.objects.all().values('title','release_date', 'rating_avg', 'rating_count')\n",
    "qs"
   ]
  },
  {
   "cell_type": "code",
   "execution_count": 10,
   "id": "dca2747a-cd74-45da-bc4b-ba56c6eece28",
   "metadata": {},
   "outputs": [],
   "source": [
    "import pandas as pd\n"
   ]
  },
  {
   "cell_type": "code",
   "execution_count": 11,
   "id": "89f21cd8-cc54-4dfe-a686-58631200a310",
   "metadata": {},
   "outputs": [
    {
     "data": {
      "text/html": [
       "<div>\n",
       "<style scoped>\n",
       "    .dataframe tbody tr th:only-of-type {\n",
       "        vertical-align: middle;\n",
       "    }\n",
       "\n",
       "    .dataframe tbody tr th {\n",
       "        vertical-align: top;\n",
       "    }\n",
       "\n",
       "    .dataframe thead th {\n",
       "        text-align: right;\n",
       "    }\n",
       "</style>\n",
       "<table border=\"1\" class=\"dataframe\">\n",
       "  <thead>\n",
       "    <tr style=\"text-align: right;\">\n",
       "      <th></th>\n",
       "      <th>title</th>\n",
       "      <th>release_date</th>\n",
       "      <th>rating_avg</th>\n",
       "      <th>rating_count</th>\n",
       "    </tr>\n",
       "  </thead>\n",
       "  <tbody>\n",
       "    <tr>\n",
       "      <th>0</th>\n",
       "      <td>Ariel</td>\n",
       "      <td>1988-10-21</td>\n",
       "      <td>2.80</td>\n",
       "      <td>5</td>\n",
       "    </tr>\n",
       "    <tr>\n",
       "      <th>1</th>\n",
       "      <td>Shadows in Paradise</td>\n",
       "      <td>1986-10-16</td>\n",
       "      <td>3.60</td>\n",
       "      <td>5</td>\n",
       "    </tr>\n",
       "    <tr>\n",
       "      <th>2</th>\n",
       "      <td>Four Rooms</td>\n",
       "      <td>1995-12-09</td>\n",
       "      <td>2.00</td>\n",
       "      <td>7</td>\n",
       "    </tr>\n",
       "    <tr>\n",
       "      <th>3</th>\n",
       "      <td>Judgment Night</td>\n",
       "      <td>1993-10-15</td>\n",
       "      <td>2.86</td>\n",
       "      <td>7</td>\n",
       "    </tr>\n",
       "    <tr>\n",
       "      <th>4</th>\n",
       "      <td>Star Wars</td>\n",
       "      <td>1977-05-25</td>\n",
       "      <td>3.42</td>\n",
       "      <td>12</td>\n",
       "    </tr>\n",
       "    <tr>\n",
       "      <th>5</th>\n",
       "      <td>Finding Nemo</td>\n",
       "      <td>2003-05-30</td>\n",
       "      <td>2.82</td>\n",
       "      <td>11</td>\n",
       "    </tr>\n",
       "    <tr>\n",
       "      <th>6</th>\n",
       "      <td>Forrest Gump</td>\n",
       "      <td>1994-07-06</td>\n",
       "      <td>2.55</td>\n",
       "      <td>11</td>\n",
       "    </tr>\n",
       "    <tr>\n",
       "      <th>7</th>\n",
       "      <td>American Beauty</td>\n",
       "      <td>1999-09-15</td>\n",
       "      <td>2.60</td>\n",
       "      <td>10</td>\n",
       "    </tr>\n",
       "    <tr>\n",
       "      <th>8</th>\n",
       "      <td>Citizen Kane</td>\n",
       "      <td>1941-04-30</td>\n",
       "      <td>3.10</td>\n",
       "      <td>10</td>\n",
       "    </tr>\n",
       "    <tr>\n",
       "      <th>9</th>\n",
       "      <td>Dancer in the Dark</td>\n",
       "      <td>2000-05-17</td>\n",
       "      <td>2.07</td>\n",
       "      <td>14</td>\n",
       "    </tr>\n",
       "  </tbody>\n",
       "</table>\n",
       "</div>"
      ],
      "text/plain": [
       "                 title release_date rating_avg  rating_count\n",
       "0                Ariel   1988-10-21       2.80             5\n",
       "1  Shadows in Paradise   1986-10-16       3.60             5\n",
       "2           Four Rooms   1995-12-09       2.00             7\n",
       "3       Judgment Night   1993-10-15       2.86             7\n",
       "4            Star Wars   1977-05-25       3.42            12\n",
       "5         Finding Nemo   2003-05-30       2.82            11\n",
       "6         Forrest Gump   1994-07-06       2.55            11\n",
       "7      American Beauty   1999-09-15       2.60            10\n",
       "8         Citizen Kane   1941-04-30       3.10            10\n",
       "9   Dancer in the Dark   2000-05-17       2.07            14"
      ]
     },
     "execution_count": 11,
     "metadata": {},
     "output_type": "execute_result"
    }
   ],
   "source": [
    "df = pd.DataFrame(qs)\n",
    "df.head(n=10)"
   ]
  },
  {
   "cell_type": "code",
   "execution_count": 13,
   "id": "5e6afb72-1095-4390-ac61-16dad302d285",
   "metadata": {},
   "outputs": [
    {
     "data": {
      "text/plain": [
       "{'title': 'Ariel',\n",
       " 'release_date': datetime.date(1988, 10, 21),\n",
       " 'rating_avg': Decimal('2.80'),\n",
       " 'rating_count': 5}"
      ]
     },
     "execution_count": 13,
     "metadata": {},
     "output_type": "execute_result"
    }
   ],
   "source": [
    "qs.first()"
   ]
  },
  {
   "cell_type": "code",
   "execution_count": null,
   "id": "42d3b500-a85e-4839-a646-75fa4e3f40b8",
   "metadata": {},
   "outputs": [],
   "source": []
  }
 ],
 "metadata": {
  "kernelspec": {
   "display_name": "Python 3 (ipykernel)",
   "language": "python",
   "name": "python3"
  },
  "language_info": {
   "codemirror_mode": {
    "name": "ipython",
    "version": 3
   },
   "file_extension": ".py",
   "mimetype": "text/x-python",
   "name": "python",
   "nbconvert_exporter": "python",
   "pygments_lexer": "ipython3",
   "version": "3.12.1"
  }
 },
 "nbformat": 4,
 "nbformat_minor": 5
}
